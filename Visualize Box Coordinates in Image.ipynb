{
  "nbformat": 4,
  "nbformat_minor": 0,
  "metadata": {
    "colab": {
      "provenance": []
    },
    "kernelspec": {
      "name": "python3",
      "display_name": "Python 3"
    },
    "language_info": {
      "name": "python"
    }
  },
  "cells": [
    {
      "cell_type": "code",
      "execution_count": 1,
      "metadata": {
        "colab": {
          "base_uri": "https://localhost:8080/"
        },
        "id": "MQTw9xVmF8yG",
        "outputId": "26a38685-8f84-4e42-f7f1-0074a82eb118"
      },
      "outputs": [
        {
          "output_type": "stream",
          "name": "stdout",
          "text": [
            "\u001b[31mERROR: Could not find a version that satisfies the requirement torch==1.11.0 (from versions: 1.13.0, 1.13.1, 2.0.0, 2.0.1, 2.1.0, 2.1.1, 2.1.2, 2.2.0, 2.2.1, 2.2.2, 2.3.0, 2.3.1, 2.4.0, 2.4.1, 2.5.0, 2.5.1, 2.6.0)\u001b[0m\u001b[31m\n",
            "\u001b[0m\u001b[31mERROR: No matching distribution found for torch==1.11.0\u001b[0m\u001b[31m\n",
            "\u001b[0m"
          ]
        }
      ],
      "source": [
        "!pip install -r requirements.txt"
      ]
    },
    {
      "cell_type": "code",
      "source": [
        "!python app.py '/content/Screenshot from 2025-02-07 13-03-49.png'"
      ],
      "metadata": {
        "colab": {
          "base_uri": "https://localhost:8080/"
        },
        "id": "AniiVYMRGLzH",
        "outputId": "09583132-c0d4-4565-9836-93828a8b566a"
      },
      "execution_count": 6,
      "outputs": [
        {
          "output_type": "stream",
          "name": "stdout",
          "text": [
            "/usr/local/lib/python3.11/dist-packages/timm/models/layers/__init__.py:48: FutureWarning: Importing from timm.models.layers is deprecated, please import via timm.layers\n",
            "  warnings.warn(f\"Importing from {__name__} is deprecated, please import via timm.layers\", FutureWarning)\n",
            "/usr/local/lib/python3.11/dist-packages/fvcore/common/checkpoint.py:252: FutureWarning: You are using `torch.load` with `weights_only=False` (the current default value), which uses the default pickle module implicitly. It is possible to construct malicious pickle data which will execute arbitrary code during unpickling (See https://github.com/pytorch/pytorch/blob/main/SECURITY.md#untrusted-models for more details). In a future release, the default value for `weights_only` will be flipped to `True`. This limits the functions that could be executed during unpickling. Arbitrary objects will no longer be allowed to be loaded via this mode unless they are explicitly allowlisted by the user via `torch.serialization.add_safe_globals`. We recommend you start setting `weights_only=True` for any use case where you don't have full control of the loaded file. Please open an issue on GitHub for any issues related to this experimental feature.\n",
            "  return torch.load(f, map_location=torch.device(\"cpu\"))\n",
            "/usr/local/lib/python3.11/dist-packages/torch/_dynamo/eval_frame.py:632: UserWarning: torch.utils.checkpoint: the use_reentrant parameter should be passed explicitly. In version 2.5 we will raise an exception if use_reentrant is not passed. use_reentrant=False is recommended, but if you need to preserve the current default behavior, you can pass use_reentrant=True. Refer to docs for more details on the differences between the two variants.\n",
            "  return fn(*args, **kwargs)\n",
            "/usr/local/lib/python3.11/dist-packages/torch/utils/checkpoint.py:87: UserWarning: None of the inputs have requires_grad=True. Gradients will be None\n",
            "  warnings.warn(\n",
            "/usr/local/lib/python3.11/dist-packages/torch/functional.py:534: UserWarning: torch.meshgrid: in an upcoming release, it will be required to pass the indexing argument. (Triggered internally at ../aten/src/ATen/native/TensorShape.cpp:3595.)\n",
            "  return _VF.meshgrid(tensors, **kwargs)  # type: ignore[attr-defined]\n",
            "[[[70.00480651855469, 81.70806884765625, 524.417724609375, 446.5245361328125]]]\n",
            "Processed image saved to output_image.jpg\n"
          ]
        }
      ]
    },
    {
      "cell_type": "code",
      "source": [
        "import cv2\n",
        "import numpy as np\n",
        "\n",
        "def draw_bounding_box(image_path, bbox_coordinates, color=(0, 255, 0), thickness=2):\n",
        "    \"\"\"\n",
        "    Draw a bounding box on an image using given coordinates.\n",
        "\n",
        "    Parameters:\n",
        "    image_path (str): Path to the input image\n",
        "    bbox_coordinates (list): List of [x1, y1, x2, y2] coordinates\n",
        "    color (tuple): BGR color tuple for the box (default: green)\n",
        "    thickness (int): Thickness of the bounding box lines\n",
        "\n",
        "    Returns:\n",
        "    numpy.ndarray: Image with drawn bounding box\n",
        "    \"\"\"\n",
        "    # Read the image\n",
        "    image = cv2.imread(image_path)\n",
        "    if image is None:\n",
        "        raise ValueError(\"Could not read the image\")\n",
        "\n",
        "    # Extract coordinates\n",
        "    x1, y1, x2, y2 = map(int, bbox_coordinates[0])\n",
        "\n",
        "    # Draw the rectangle\n",
        "    cv2.rectangle(image, (x1, y1), (x2, y2), color, thickness)\n",
        "\n",
        "    return image\n",
        "\n",
        "def save_image_with_bbox(image_path, output_path, bbox_coordinates):\n",
        "    \"\"\"\n",
        "    Save the image with drawn bounding box.\n",
        "\n",
        "    Parameters:\n",
        "    image_path (str): Path to the input image\n",
        "    output_path (str): Path where the output image will be saved\n",
        "    bbox_coordinates (list): List of [x1, y1, x2, y2] coordinates\n",
        "    \"\"\"\n",
        "    # Draw bounding box on the image\n",
        "    image_with_bbox = draw_bounding_box(image_path, bbox_coordinates)\n",
        "\n",
        "    # Save the result\n",
        "    cv2.imwrite(output_path, image_with_bbox)\n",
        "\n",
        "# Example usage\n",
        "bbox_coordinates = [[70.00480651855469, 81.70806884765625, 524.417724609375, 446.5245361328125]]\n"
      ],
      "metadata": {
        "id": "1ipmHCt7Glfz"
      },
      "execution_count": 7,
      "outputs": []
    },
    {
      "cell_type": "code",
      "source": [
        "# Example usage\n",
        "image_path = '/content/Screenshot from 2025-02-07 13-03-49.png'\n",
        "output_path = 'output_image_new.jpg'\n",
        "bbox_coordinates = [[70.00480651855469, 81.70806884765625, 524.417724609375, 446.5245361328125]]\n",
        "\n",
        "save_image_with_bbox(image_path, output_path, bbox_coordinates)"
      ],
      "metadata": {
        "id": "vksRYPxialYX"
      },
      "execution_count": 8,
      "outputs": []
    },
    {
      "cell_type": "code",
      "source": [],
      "metadata": {
        "id": "_9KPRxKjapSH"
      },
      "execution_count": null,
      "outputs": []
    }
  ]
}